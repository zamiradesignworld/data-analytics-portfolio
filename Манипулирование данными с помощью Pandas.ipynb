{
 "cells": [
  {
   "cell_type": "markdown",
   "id": "8dd77bb84d6a7da5",
   "metadata": {},
   "source": []
  },
  {
   "cell_type": "markdown",
   "id": "9a990ce03c6d34cd",
   "metadata": {},
   "source": [
    "# Манипулирование данными с помощью Pandas\n"
   ]
  },
  {
   "cell_type": "markdown",
   "id": "f54813419f93f061",
   "metadata": {},
   "source": [
    "## Нарезка и индексирование фреймов данных"
   ]
  },
  {
   "cell_type": "markdown",
   "id": "e88a185f",
   "metadata": {},
   "source": [
    "### Установка и удаление индексов\n",
    "\n",
    "Библиотека pandas позволяет назначать столбцы в качестве индекса. Это облегчает написание более чистого кода при работе с подмножествами данных (а также обеспечивает более эффективный поиск в некоторых случаях).\n",
    "\n",
    "В этой главе вы будете изучать температуры - это DataFrame средних температур в городах по всему миру. Библиотека pandas загружена как pd."
   ]
  },
  {
   "cell_type": "markdown",
   "id": "fafa13bb",
   "metadata": {},
   "source": [
    "#### Инструкции\n",
    "\n",
    "- Посмотрите на `temperatures`.\n",
    "- Установите индекс `temperatures` на \"`city`\", присвоив результат переменной `temperatures_ind`.\n",
    "- Посмотрите на `temperatures_ind`. В чем разница между `temperatures` и `temperatures_ind`?\n",
    "- Сбросьте индекс `temperatures_ind`, сохраняя его содержимое.\n",
    "- Сбросьте индекс `temperatures_ind`, удалив его содержимое."
   ]
  },
  {
   "cell_type": "code",
   "execution_count": 3,
   "id": "acc8cf95",
   "metadata": {
    "ExecuteTime": {
     "end_time": "2024-01-04T09:37:01.283976Z",
     "start_time": "2024-01-04T09:36:59.272089Z"
    }
   },
   "outputs": [
    {
     "name": "stdout",
     "output_type": "stream",
     "text": [
      "       Unnamed: 0        date     city        country  avg_temp_c\n",
      "0               0  2000-01-01  Abidjan  Côte D'Ivoire      27.293\n",
      "1               1  2000-02-01  Abidjan  Côte D'Ivoire      27.685\n",
      "2               2  2000-03-01  Abidjan  Côte D'Ivoire      29.061\n",
      "3               3  2000-04-01  Abidjan  Côte D'Ivoire      28.162\n",
      "4               4  2000-05-01  Abidjan  Côte D'Ivoire      27.547\n",
      "...           ...         ...      ...            ...         ...\n",
      "16495       16495  2013-05-01     Xian          China      18.979\n",
      "16496       16496  2013-06-01     Xian          China      23.522\n",
      "16497       16497  2013-07-01     Xian          China      25.251\n",
      "16498       16498  2013-08-01     Xian          China      24.528\n",
      "16499       16499  2013-09-01     Xian          China         NaN\n",
      "\n",
      "[16500 rows x 5 columns]\n",
      "         Unnamed: 0        date        country  avg_temp_c\n",
      "city                                                      \n",
      "Abidjan           0  2000-01-01  Côte D'Ivoire      27.293\n",
      "Abidjan           1  2000-02-01  Côte D'Ivoire      27.685\n",
      "Abidjan           2  2000-03-01  Côte D'Ivoire      29.061\n",
      "Abidjan           3  2000-04-01  Côte D'Ivoire      28.162\n",
      "Abidjan           4  2000-05-01  Côte D'Ivoire      27.547\n",
      "...             ...         ...            ...         ...\n",
      "Xian          16495  2013-05-01          China      18.979\n",
      "Xian          16496  2013-06-01          China      23.522\n",
      "Xian          16497  2013-07-01          China      25.251\n",
      "Xian          16498  2013-08-01          China      24.528\n",
      "Xian          16499  2013-09-01          China         NaN\n",
      "\n",
      "[16500 rows x 4 columns]\n",
      "          city  Unnamed: 0        date        country  avg_temp_c\n",
      "0      Abidjan           0  2000-01-01  Côte D'Ivoire      27.293\n",
      "1      Abidjan           1  2000-02-01  Côte D'Ivoire      27.685\n",
      "2      Abidjan           2  2000-03-01  Côte D'Ivoire      29.061\n",
      "3      Abidjan           3  2000-04-01  Côte D'Ivoire      28.162\n",
      "4      Abidjan           4  2000-05-01  Côte D'Ivoire      27.547\n",
      "...        ...         ...         ...            ...         ...\n",
      "16495     Xian       16495  2013-05-01          China      18.979\n",
      "16496     Xian       16496  2013-06-01          China      23.522\n",
      "16497     Xian       16497  2013-07-01          China      25.251\n",
      "16498     Xian       16498  2013-08-01          China      24.528\n",
      "16499     Xian       16499  2013-09-01          China         NaN\n",
      "\n",
      "[16500 rows x 5 columns]\n",
      "       Unnamed: 0        date        country  avg_temp_c\n",
      "0               0  2000-01-01  Côte D'Ivoire      27.293\n",
      "1               1  2000-02-01  Côte D'Ivoire      27.685\n",
      "2               2  2000-03-01  Côte D'Ivoire      29.061\n",
      "3               3  2000-04-01  Côte D'Ivoire      28.162\n",
      "4               4  2000-05-01  Côte D'Ivoire      27.547\n",
      "...           ...         ...            ...         ...\n",
      "16495       16495  2013-05-01          China      18.979\n",
      "16496       16496  2013-06-01          China      23.522\n",
      "16497       16497  2013-07-01          China      25.251\n",
      "16498       16498  2013-08-01          China      24.528\n",
      "16499       16499  2013-09-01          China         NaN\n",
      "\n",
      "[16500 rows x 4 columns]\n"
     ]
    }
   ],
   "source": [
    "import pandas as pd\n",
    "temperatures = pd.read_csv('temperatures.csv')\n",
    "\n",
    "# Посмотреть на данные в переменной temperatures\n",
    "print(temperatures) \n",
    "\n",
    "# Установить индекс для данных в переменной temperatures по городам\n",
    "temperatures_ind = temperatures.set_index['city']\n",
    "\n",
    "# Посмотреть на данные в переменной temperatures_ind\n",
    "print(temperatures_ind)\n",
    "\n",
    "# Сбросить индекс для данных в переменной temperatures_ind, сохраняя их содержимое\n",
    "print(temperatures_ind.reset_index())\n",
    "\n",
    "# Сбросить индекс для данных в переменной temperatures_ind, удалив его содержимое\n",
    "print(temperatures_ind.reset_index(drop=True))"
   ]
  },
  {
   "cell_type": "markdown",
   "id": "8c5860ea",
   "metadata": {},
   "source": [
    "### Выделение подмножества с помощью .loc[]\n",
    "\n",
    "Одной из ключевых возможностей индексов является метод `.loc[]`, предназначенный для выделения подмножества данных на основе значений индекса. Если передать ему один аргумент, он выделит соответствующее подмножество строк.\n",
    "\n",
    "Код для выделения подмножества с использованием `.loc[]` может быть более читаемым, чем стандартное выделение с помощью квадратных скобок, что делает ваш код менее трудоемким при поддержке.\n",
    "\n",
    "Библиотека pandas загружена как pd. Доступны `temperatures` и `temperatures_ind`; последний индексирован по `city`."
   ]
  },
  {
   "cell_type": "markdown",
   "id": "1f7382d8",
   "metadata": {},
   "source": [
    "#### Инструкции\n",
    "\n",
    "- Создайте список под названием `cities`, содержащий \"Москва\" и \"Санкт-Петербург\".\n",
    "- Используйте [] для фильтрации `temperatures` по строкам, где столбец `city` принимает значение из списка `cities`.\n",
    "- Используйте `.loc[]` для фильтрации `temperatures_ind` по строкам, где город находится в списке `cities`."
   ]
  },
  {
   "cell_type": "code",
   "execution_count": 4,
   "id": "8161906b",
   "metadata": {
    "ExecuteTime": {
     "end_time": "2024-01-04T09:37:38.160574Z",
     "start_time": "2024-01-04T09:37:38.146479Z"
    }
   },
   "outputs": [
    {
     "name": "stdout",
     "output_type": "stream",
     "text": [
      "       Unnamed: 0        date              city country  avg_temp_c\n",
      "10725       10725  2000-01-01            Moscow  Russia      -7.313\n",
      "10726       10726  2000-02-01            Moscow  Russia      -3.551\n",
      "10727       10727  2000-03-01            Moscow  Russia      -1.661\n",
      "10728       10728  2000-04-01            Moscow  Russia      10.096\n",
      "10729       10729  2000-05-01            Moscow  Russia      10.357\n",
      "...           ...         ...               ...     ...         ...\n",
      "13360       13360  2013-05-01  Saint Petersburg  Russia      12.355\n",
      "13361       13361  2013-06-01  Saint Petersburg  Russia      17.185\n",
      "13362       13362  2013-07-01  Saint Petersburg  Russia      17.234\n",
      "13363       13363  2013-08-01  Saint Petersburg  Russia      17.153\n",
      "13364       13364  2013-09-01  Saint Petersburg  Russia         NaN\n",
      "\n",
      "[330 rows x 5 columns]\n",
      "                  Unnamed: 0        date country  avg_temp_c\n",
      "city                                                        \n",
      "Moscow                 10725  2000-01-01  Russia      -7.313\n",
      "Moscow                 10726  2000-02-01  Russia      -3.551\n",
      "Moscow                 10727  2000-03-01  Russia      -1.661\n",
      "Moscow                 10728  2000-04-01  Russia      10.096\n",
      "Moscow                 10729  2000-05-01  Russia      10.357\n",
      "...                      ...         ...     ...         ...\n",
      "Saint Petersburg       13360  2013-05-01  Russia      12.355\n",
      "Saint Petersburg       13361  2013-06-01  Russia      17.185\n",
      "Saint Petersburg       13362  2013-07-01  Russia      17.234\n",
      "Saint Petersburg       13363  2013-08-01  Russia      17.153\n",
      "Saint Petersburg       13364  2013-09-01  Russia         NaN\n",
      "\n",
      "[330 rows x 4 columns]\n"
     ]
    }
   ],
   "source": [
    "# Создание списка городов для выделения подмножества\n",
    "cities = [\"Moscow\", \"Saint Peterburg\"]\n",
    "\n",
    "# Выделение подмножества в переменной temperatures с использованием квадратных скобок\n",
    "print(temperatures[temperatures[\"city\"].isin(cities)])\n",
    "\n",
    "# Выделение подмножества в переменной temperatures_ind с использованием .loc[]\n",
    "print(temperatures_ind.loc[cities])"
   ]
  },
  {
   "cell_type": "markdown",
   "id": "b3923421",
   "metadata": {},
   "source": [
    "### Установка многоуровневых индексов\n",
    "\n",
    "Индексы также могут состоять из нескольких столбцов, формируя многоуровневый индекс (иногда называемый иерархическим индексом). Это имеет свои особенности.\n",
    "\n",
    "Преимущество заключается в том, что многоуровневые индексы делают более естественным рассуждение о вложенных категориальных переменных. Например, в клиническом исследовании у вас может быть контрольная и терапевтическая группы. Затем каждый испытуемый принадлежит к одной из этих групп, и мы можем сказать, что испытуемый вложен в одну из групп. Точно так же, в наборе данных о температуре города находятся в стране, и мы можем сказать, что город вложен в страну.\n",
    "\n",
    "Основной недостаток заключается в том, что код для работы с индексами отличается от кода для работы со столбцами, поэтому вам приходится изучать два синтаксиса и следить за тем, как представлены ваши данные.\n",
    "\n",
    "Библиотека pandas загружена как pd. Доступна переменная temperatures."
   ]
  },
  {
   "cell_type": "markdown",
   "id": "e651a945",
   "metadata": {},
   "source": [
    "#### Инструкции\n",
    "\n",
    "- Установите индекс для temperatures по столбцам `\"country\"` и `\"city\"`, присвоив это `temperatures_ind`.\n",
    "- Укажите две пары страна/город для сохранения: \"Бразилия\"/\"Рио-де-Жанейро\" и \"Пакистан\"/\"Лахор\", присвоив переменной `rows_to_keep`.\n",
    "- Выведите на печать и выделите подмножество `temperatures_ind` для `rows_to_keep` с использованием `.loc[]`."
   ]
  },
  {
   "cell_type": "code",
   "execution_count": 5,
   "id": "95d1199d",
   "metadata": {
    "ExecuteTime": {
     "end_time": "2024-01-04T09:37:44.912830Z",
     "start_time": "2024-01-04T09:37:44.881015Z"
    }
   },
   "outputs": [
    {
     "name": "stdout",
     "output_type": "stream",
     "text": [
      "                         Unnamed: 0        date  avg_temp_c\n",
      "country  city                                              \n",
      "Brazil   Rio De Janeiro       12540  2000-01-01      25.974\n",
      "         Rio De Janeiro       12541  2000-02-01      26.699\n",
      "         Rio De Janeiro       12542  2000-03-01      26.270\n",
      "         Rio De Janeiro       12543  2000-04-01      25.750\n",
      "         Rio De Janeiro       12544  2000-05-01      24.356\n",
      "...                             ...         ...         ...\n",
      "Pakistan Lahore                8575  2013-05-01      33.457\n",
      "         Lahore                8576  2013-06-01      34.456\n",
      "         Lahore                8577  2013-07-01      33.279\n",
      "         Lahore                8578  2013-08-01      31.511\n",
      "         Lahore                8579  2013-09-01         NaN\n",
      "\n",
      "[330 rows x 3 columns]\n"
     ]
    }
   ],
   "source": [
    "# Индексирование температур по стране и городу\n",
    "temperatures_ind = temperatures.set_index([\"country\", \"city\"])\n",
    "\n",
    "# Список кортежей: Бразилия, Рио-де-Жанейро и Пакистан, Лахор\n",
    "rows_to_keep = [(\"Brazil\", \"Rio De Janeiro\"), (\"Pakistan\", \"Lahore\")]\n",
    "\n",
    "# Выделение подмножества для указанных строк\n",
    "print(temperatures_ind.loc[rows_to_keep])"
   ]
  },
  {
   "cell_type": "markdown",
   "id": "368cda13",
   "metadata": {},
   "source": [
    "### Сортировка по значениям индекса\n",
    "\n",
    "Ранее вы изменяли порядок строк в DataFrame, вызывая метод `.sort_values()`. Также полезно иметь возможность сортировать по элементам индекса. Для этого нужно использовать метод `.sort_index()`.\n",
    "\n",
    "Библиотека pandas загружена как pd. `temperatures_ind` имеет многоуровневый индекс с категориями `country` и `city` и доступен для использования."
   ]
  },
  {
   "cell_type": "markdown",
   "id": "2cd86ef8",
   "metadata": {},
   "source": [
    "#### Инструкции\n",
    "\n",
    "- Отсортируйте `temperatures_ind` по значениям индекса.\n",
    "- Отсортируйте `temperatures_ind` по значениям индекса на уровне `\"city\"`.\n",
    "- Отсортируйте `temperatures_ind` по возрастанию страны, а затем по убыванию города."
   ]
  },
  {
   "cell_type": "code",
   "execution_count": 6,
   "id": "db67100d",
   "metadata": {
    "ExecuteTime": {
     "end_time": "2024-01-04T09:37:49.685130Z",
     "start_time": "2024-01-04T09:37:49.655011Z"
    }
   },
   "outputs": [
    {
     "name": "stdout",
     "output_type": "stream",
     "text": [
      "                    Unnamed: 0        date  avg_temp_c\n",
      "country     city                                      \n",
      "Afghanistan Kabul         7260  2000-01-01       3.326\n",
      "            Kabul         7261  2000-02-01       3.454\n",
      "            Kabul         7262  2000-03-01       9.612\n",
      "            Kabul         7263  2000-04-01      17.925\n",
      "            Kabul         7264  2000-05-01      24.658\n",
      "...                        ...         ...         ...\n",
      "Zimbabwe    Harare        5605  2013-05-01      18.298\n",
      "            Harare        5606  2013-06-01      17.020\n",
      "            Harare        5607  2013-07-01      16.299\n",
      "            Harare        5608  2013-08-01      19.232\n",
      "            Harare        5609  2013-09-01         NaN\n",
      "\n",
      "[16500 rows x 3 columns]\n",
      "                       Unnamed: 0        date  avg_temp_c\n",
      "country       city                                       \n",
      "Côte D'Ivoire Abidjan           0  2000-01-01      27.293\n",
      "              Abidjan           1  2000-02-01      27.685\n",
      "              Abidjan           2  2000-03-01      29.061\n",
      "              Abidjan           3  2000-04-01      28.162\n",
      "              Abidjan           4  2000-05-01      27.547\n",
      "...                           ...         ...         ...\n",
      "China         Xian          16495  2013-05-01      18.979\n",
      "              Xian          16496  2013-06-01      23.522\n",
      "              Xian          16497  2013-07-01      25.251\n",
      "              Xian          16498  2013-08-01      24.528\n",
      "              Xian          16499  2013-09-01         NaN\n",
      "\n",
      "[16500 rows x 3 columns]\n",
      "                    Unnamed: 0        date  avg_temp_c\n",
      "country     city                                      \n",
      "Afghanistan Kabul         7260  2000-01-01       3.326\n",
      "            Kabul         7261  2000-02-01       3.454\n",
      "            Kabul         7262  2000-03-01       9.612\n",
      "            Kabul         7263  2000-04-01      17.925\n",
      "            Kabul         7264  2000-05-01      24.658\n",
      "...                        ...         ...         ...\n",
      "Zimbabwe    Harare        5605  2013-05-01      18.298\n",
      "            Harare        5606  2013-06-01      17.020\n",
      "            Harare        5607  2013-07-01      16.299\n",
      "            Harare        5608  2013-08-01      19.232\n",
      "            Harare        5609  2013-09-01         NaN\n",
      "\n",
      "[16500 rows x 3 columns]\n"
     ]
    }
   ],
   "source": [
    "# Сортировка temperatures_ind по значениям индекса\n",
    "print(temperature_ind.sort_index())\n",
    "\n",
    "# Сортировка temperatures_ind по значениям индекса на уровне города\n",
    "print(temperatures_ind.sort_index(level=\"city\"))\n",
    "\n",
    "# Сортировка temperatures_ind сначала по стране, затем по убыванию города\n",
    "print(temperatures_ind.sort_index(level=[\"country\", \"city\"], ascending = [True, False]))"
   ]
  },
  {
   "cell_type": "markdown",
   "id": "0698c1be",
   "metadata": {},
   "source": [
    "### Выделение срезов значений индекса\n",
    "\n",
    "Срезы позволяют выбирать последовательные элементы объекта, используя синтаксис первый:последний. DataFrame можно нарезать по значениям индекса или по номеру строки/столбца; мы начнем с первого случая. Это включает выделение срезов внутри метода `.loc[]`.\n",
    "\n",
    "По сравнению с нарезкой списков, есть несколько моментов, которые следует запомнить.\n",
    "\n",
    "- Вы можете делать срез индекса только если индекс отсортирован (с использованием `.sort_index()`).\n",
    "- Для выделения среза на внешнем уровне первый и последний могут быть строками.\n",
    "- Для выделения среза на внутренних уровнях первый и последний должны быть кортежами.\n",
    "- Если вы передаете единичный срез в `.loc[]`, он будет выделять строки.\n",
    "- Библиотека pandas загружена как pd. `temperatures_ind` содержит в индексе страну и город и доступен для использования."
   ]
  },
  {
   "cell_type": "markdown",
   "id": "f4b8c5da",
   "metadata": {},
   "source": [
    "#### Инструкции\n",
    "\n",
    "- Отсортируйте индекс в temperatures_ind.\n",
    "- Используйте нарезку с помощью .loc[], чтобы получить следующие подмножества:\n",
    "  - от Пакистана до России.\n",
    "  - от Лахора до Москвы. (Это вернет бессмыслицу.)\n",
    "  - от Пакистана, Лахора до России, Москвы."
   ]
  },
  {
   "cell_type": "code",
   "execution_count": 7,
   "id": "be11c1b6",
   "metadata": {
    "ExecuteTime": {
     "end_time": "2024-01-04T09:37:56.076280Z",
     "start_time": "2024-01-04T09:37:55.993469Z"
    }
   },
   "outputs": [
    {
     "name": "stdout",
     "output_type": "stream",
     "text": [
      "                           Unnamed: 0        date  avg_temp_c\n",
      "country  city                                                \n",
      "Pakistan Faisalabad              4785  2000-01-01      12.792\n",
      "         Faisalabad              4786  2000-02-01      14.339\n",
      "         Faisalabad              4787  2000-03-01      20.309\n",
      "         Faisalabad              4788  2000-04-01      29.072\n",
      "         Faisalabad              4789  2000-05-01      34.845\n",
      "...                               ...         ...         ...\n",
      "Russia   Saint Petersburg       13360  2013-05-01      12.355\n",
      "         Saint Petersburg       13361  2013-06-01      17.185\n",
      "         Saint Petersburg       13362  2013-07-01      17.234\n",
      "         Saint Petersburg       13363  2013-08-01      17.153\n",
      "         Saint Petersburg       13364  2013-09-01         NaN\n",
      "\n",
      "[1155 rows x 3 columns]\n",
      "                    Unnamed: 0        date  avg_temp_c\n",
      "country city                                          \n",
      "Mexico  Mexico           10230  2000-01-01      12.694\n",
      "        Mexico           10231  2000-02-01      14.677\n",
      "        Mexico           10232  2000-03-01      17.376\n",
      "        Mexico           10233  2000-04-01      18.294\n",
      "        Mexico           10234  2000-05-01      18.562\n",
      "...                        ...         ...         ...\n",
      "Morocco Casablanca        3130  2013-05-01      19.217\n",
      "        Casablanca        3131  2013-06-01      23.649\n",
      "        Casablanca        3132  2013-07-01      27.488\n",
      "        Casablanca        3133  2013-08-01      27.952\n",
      "        Casablanca        3134  2013-09-01         NaN\n",
      "\n",
      "[330 rows x 3 columns]\n",
      "                 Unnamed: 0        date  avg_temp_c\n",
      "country  city                                      \n",
      "Pakistan Lahore        8415  2000-01-01      12.792\n",
      "         Lahore        8416  2000-02-01      14.339\n",
      "         Lahore        8417  2000-03-01      20.309\n",
      "         Lahore        8418  2000-04-01      29.072\n",
      "         Lahore        8419  2000-05-01      34.845\n",
      "...                     ...         ...         ...\n",
      "Russia   Moscow       10885  2013-05-01      16.152\n",
      "         Moscow       10886  2013-06-01      18.718\n",
      "         Moscow       10887  2013-07-01      18.136\n",
      "         Moscow       10888  2013-08-01      17.485\n",
      "         Moscow       10889  2013-09-01         NaN\n",
      "\n",
      "[660 rows x 3 columns]\n"
     ]
    }
   ],
   "source": [
    "# Сортировка индекса в temperatures_ind\n",
    "temperatures_srt = tempertures_ind.sort_index() \n",
    "\n",
    "# Выделение строк от Пакистана до России\n",
    "print(temperatures_srt.loc['Pakistan':'Russia'])\n",
    "\n",
    "# Попытка выделить строки от Лахора до Москвы\n",
    "print(temperatures_srt.loc[\"Lahore\":\"Moscow\"])\n",
    "\n",
    "# Выделение строк от Пакистана, Лахора до России, Москвы\n",
    "print(temperature_str.loc[('Pakistan', 'Lahore'):('Russia', 'Moscow')]) "
   ]
  },
  {
   "cell_type": "markdown",
   "id": "e25487d8",
   "metadata": {},
   "source": [
    "### Срезка в обе стороны\n",
    "\n",
    "Вы уже видели, как можно нарезать DataFrame по строкам и по столбцам, но поскольку DataFrame - это двумерный объект, часто естественно выделять сразу оба измерения. То есть, передавая два аргумента в `.loc[]`, вы можете выделять как строки, так и столбцы одновременно.\n",
    "\n",
    "Библиотека pandas загружена как pd. `temperatures_srt` проиндексирован по стране и городу, имеет отсортированный индекс и доступен для использования."
   ]
  },
  {
   "cell_type": "markdown",
   "id": "364e856d",
   "metadata": {},
   "source": [
    "#### Инструкции\n",
    "\n",
    "Используйте срез с помощью `.loc[]`, чтобы выделить строки от Индии, Хайдарабада до Ирака, Багдада.\n",
    "Используйте срез с помощью `.loc[]`, чтобы выделить столбцы от date до avg_temp_c.\n",
    "Выделите срез одновременно и по строкам (от Хайдарабада до Багдада) и по столбцам (от date до `avg_temp_c`) с помощью `.loc[]`."
   ]
  },
  {
   "cell_type": "code",
   "execution_count": 8,
   "id": "ccef495e",
   "metadata": {
    "ExecuteTime": {
     "end_time": "2024-01-04T09:38:00.355135Z",
     "start_time": "2024-01-04T09:38:00.338083Z"
    }
   },
   "outputs": [
    {
     "name": "stdout",
     "output_type": "stream",
     "text": [
      "                   Unnamed: 0        date  avg_temp_c\n",
      "country city                                         \n",
      "India   Hyderabad        5940  2000-01-01      23.779\n",
      "        Hyderabad        5941  2000-02-01      25.826\n",
      "        Hyderabad        5942  2000-03-01      28.821\n",
      "        Hyderabad        5943  2000-04-01      32.698\n",
      "        Hyderabad        5944  2000-05-01      32.438\n",
      "...                       ...         ...         ...\n",
      "Iraq    Baghdad          1150  2013-05-01      28.673\n",
      "        Baghdad          1151  2013-06-01      33.803\n",
      "        Baghdad          1152  2013-07-01      36.392\n",
      "        Baghdad          1153  2013-08-01      35.463\n",
      "        Baghdad          1154  2013-09-01         NaN\n",
      "\n",
      "[2145 rows x 3 columns]\n",
      "                          date  avg_temp_c\n",
      "country     city                          \n",
      "Afghanistan Kabul   2000-01-01       3.326\n",
      "            Kabul   2000-02-01       3.454\n",
      "            Kabul   2000-03-01       9.612\n",
      "            Kabul   2000-04-01      17.925\n",
      "            Kabul   2000-05-01      24.658\n",
      "...                        ...         ...\n",
      "Zimbabwe    Harare  2013-05-01      18.298\n",
      "            Harare  2013-06-01      17.020\n",
      "            Harare  2013-07-01      16.299\n",
      "            Harare  2013-08-01      19.232\n",
      "            Harare  2013-09-01         NaN\n",
      "\n",
      "[16500 rows x 2 columns]\n",
      "                         date  avg_temp_c\n",
      "country city                             \n",
      "India   Hyderabad  2000-01-01      23.779\n",
      "        Hyderabad  2000-02-01      25.826\n",
      "        Hyderabad  2000-03-01      28.821\n",
      "        Hyderabad  2000-04-01      32.698\n",
      "        Hyderabad  2000-05-01      32.438\n",
      "...                       ...         ...\n",
      "Iraq    Baghdad    2013-05-01      28.673\n",
      "        Baghdad    2013-06-01      33.803\n",
      "        Baghdad    2013-07-01      36.392\n",
      "        Baghdad    2013-08-01      35.463\n",
      "        Baghdad    2013-09-01         NaN\n",
      "\n",
      "[2145 rows x 2 columns]\n"
     ]
    }
   ],
   "source": [
    "# Выделение строк от Индии, Хайдарабада до Ирака, Багдада\n",
    "print(temperatures_srt.loc[(\"India\", \"Hyderabad\"):(\"Iraq\", \"Baghdad\")])\n",
    "\n",
    "# Выделение столбцов от date до avg_temp_c\n",
    "print(temperatures_srt.loc[:, \"date\":\"avg_temp_c\"])\n",
    "\n",
    "# Выделение одновременно и по строкам (от Индии, Хайдарабада до Ирака, Багдада) и по столбцам (от date до avg_temp_c)\n",
    "print(temperatures_srt.loc[(\"India\", \"Hyderabad\"):(\"Iraq\", \"Baghdad\"), \"date\":\"avg_temp_c\"])"
   ]
  },
  {
   "cell_type": "markdown",
   "id": "e367d837",
   "metadata": {},
   "source": [
    "### Нарезка временных рядов\n",
    "\n",
    "Нарезка особенно полезна для временных рядов, поскольку часто бывает необходимо отфильтровать данные в определенном диапазоне дат. Добавьте столбец с датой в индекс, затем используйте .loc[] для выделения подмножества. Важно помнить о хранении дат в формате ISO 8601, то есть \"гггг-мм-дд\" для год-месяц-день, \"гггг-мм\" для год-месяц и \"гггг\" для года.\n",
    "\n",
    "Напомним из главы 1, что вы можете объединять несколько булевых условий, используя логические операторы, такие как &. Чтобы сделать это в одной строке кода, вам нужно будет добавить круглые скобки () вокруг каждого условия.\n",
    "\n",
    "Библиотека pandas загружена как pd, и temperatures, без индекса, доступны."
   ]
  },
  {
   "cell_type": "markdown",
   "id": "3700d607",
   "metadata": {},
   "source": [
    "#### Инструкции\n",
    "\n",
    "- Используйте логические условия, а не `.isin()` или `.loc[]`, и полные даты \"гггг-мм-дд\", чтобы выделить подмножество температур для строк за 2010 и 2011 годы, и выведите результаты.\n",
    "- Установите индекс для `temperatures` в столбец с датой и отсортируйте его.\n",
    "- Используйте `.loc[]` для выделения подмножества `temperatures_ind` для строк за 2010 и 2011 годы.\n",
    "- Используйте `.loc[]` для выделения подмножества `temperatures_ind` для строк с августа 2010 года по февраль 2011 года."
   ]
  },
  {
   "cell_type": "code",
   "execution_count": 9,
   "id": "4bf72bc8",
   "metadata": {
    "ExecuteTime": {
     "end_time": "2024-01-04T09:38:04.060169Z",
     "start_time": "2024-01-04T09:38:04.025086Z"
    }
   },
   "outputs": [
    {
     "name": "stdout",
     "output_type": "stream",
     "text": [
      "       Unnamed: 0        date     city        country  avg_temp_c\n",
      "120           120  2010-01-01  Abidjan  Côte D'Ivoire      28.270\n",
      "121           121  2010-02-01  Abidjan  Côte D'Ivoire      29.262\n",
      "122           122  2010-03-01  Abidjan  Côte D'Ivoire      29.596\n",
      "123           123  2010-04-01  Abidjan  Côte D'Ivoire      29.068\n",
      "124           124  2010-05-01  Abidjan  Côte D'Ivoire      28.258\n",
      "...           ...         ...      ...            ...         ...\n",
      "16474       16474  2011-08-01     Xian          China      23.069\n",
      "16475       16475  2011-09-01     Xian          China      16.775\n",
      "16476       16476  2011-10-01     Xian          China      12.587\n",
      "16477       16477  2011-11-01     Xian          China       7.543\n",
      "16478       16478  2011-12-01     Xian          China      -0.490\n",
      "\n",
      "[2400 rows x 5 columns]\n",
      "            Unnamed: 0        city    country  avg_temp_c\n",
      "date                                                     \n",
      "2010-01-01        4905  Faisalabad   Pakistan      11.810\n",
      "2010-01-01       10185   Melbourne  Australia      20.016\n",
      "2010-01-01        3750   Chongqing      China       7.921\n",
      "2010-01-01       13155   São Paulo     Brazil      23.738\n",
      "2010-01-01        5400   Guangzhou      China      14.136\n",
      "...                ...         ...        ...         ...\n",
      "2010-12-01        6896     Jakarta  Indonesia      26.602\n",
      "2010-12-01        5246       Gizeh      Egypt      16.530\n",
      "2010-12-01       11186      Nagpur      India      19.120\n",
      "2010-12-01       14981      Sydney  Australia      19.559\n",
      "2010-12-01       13496    Salvador     Brazil      26.265\n",
      "\n",
      "[1200 rows x 4 columns]\n",
      "            Unnamed: 0           city        country  avg_temp_c\n",
      "date                                                            \n",
      "2010-08-01        2602       Calcutta          India      30.226\n",
      "2010-08-01       12337           Pune          India      24.941\n",
      "2010-08-01        6562          Izmir         Turkey      28.352\n",
      "2010-08-01       15637        Tianjin          China      25.543\n",
      "2010-08-01        9862         Manila    Philippines      27.101\n",
      "...                ...            ...            ...         ...\n",
      "2011-01-01        4257  Dar Es Salaam       Tanzania      28.541\n",
      "2011-01-01       11352        Nairobi          Kenya      17.768\n",
      "2011-01-01         297    Addis Abeba       Ethiopia      17.708\n",
      "2011-01-01       11517        Nanjing          China       0.144\n",
      "2011-01-01       11847       New York  United States      -4.463\n",
      "\n",
      "[600 rows x 4 columns]\n"
     ]
    }
   ],
   "source": [
    "# Используйте логические условия для выделения строк температур за 2010 и 2011 годы\n",
    "temperatures_bool = temperatures[(temperatures[\"date\"] >= \"2010-01-01\") & (temperatures[\"date\"] <= \"2011-12-31\")]\n",
    "print(temperatures_bool)\n",
    "\n",
    "# Установите дату в качестве индекса и отсортируйте индекс\n",
    "temperatures_ind = temperatures.set_index(\"date\").sort_index()\n",
    "\n",
    "# Используйте .loc[] для выделения подмножества temperatures_ind для строк за 2010 и 2011 годы\n",
    "print(temperatures_ind.loc[\"2010\":\"2011\"])\n",
    "\n",
    "# Используйте .loc[] для выделения подмножества temperatures_ind для строк с августа 2010 по февраль 2011 года\n",
    "print(temperatures_ind.loc[\"2010-08\":\"2011-02\"])"
   ]
  },
  {
   "cell_type": "markdown",
   "id": "652c5a8c",
   "metadata": {},
   "source": [
    "### Выделение по номеру строки/столбца\n",
    "\n",
    "Самые распространенные способы выделения строк - это те, о которых мы ранее говорили: использование булевого условия или меток индекса. Однако иногда полезно также использовать номера строк.\n",
    "\n",
    "Это делается с помощью .iloc[], и, как и .loc[], он может принимать два аргумента для выделения строк и столбцов.\n",
    "\n",
    "Библиотека pandas загружена как pd. temperatures (без индекса) доступны."
   ]
  },
  {
   "cell_type": "markdown",
   "id": "9e9459f4",
   "metadata": {},
   "source": [
    "#### Инструкции\n",
    "\n",
    "- Используйте .iloc[] на объекте temperatures для выделения подмножества.\n",
    "- Получите 23-ю строку, 2-й столбец (индексные позиции 22 и 1).\n",
    "- Получите первые 5 строк (индексные позиции с 0 по 4).\n",
    "- Получите все строки, столбцы 3 и 4 (индексные позиции с 2 по 4).\n",
    "- Получите первые 5 строк, столбцы 3 и 4."
   ]
  },
  {
   "cell_type": "code",
   "execution_count": 10,
   "id": "854ec561",
   "metadata": {
    "ExecuteTime": {
     "end_time": "2024-01-04T09:38:07.734432Z",
     "start_time": "2024-01-04T09:38:07.727345Z"
    }
   },
   "outputs": [
    {
     "name": "stdout",
     "output_type": "stream",
     "text": [
      "2001-11-01\n",
      "   Unnamed: 0        date     city        country  avg_temp_c\n",
      "0           0  2000-01-01  Abidjan  Côte D'Ivoire      27.293\n",
      "1           1  2000-02-01  Abidjan  Côte D'Ivoire      27.685\n",
      "2           2  2000-03-01  Abidjan  Côte D'Ivoire      29.061\n",
      "3           3  2000-04-01  Abidjan  Côte D'Ivoire      28.162\n",
      "4           4  2000-05-01  Abidjan  Côte D'Ivoire      27.547\n",
      "          city        country\n",
      "0      Abidjan  Côte D'Ivoire\n",
      "1      Abidjan  Côte D'Ivoire\n",
      "2      Abidjan  Côte D'Ivoire\n",
      "3      Abidjan  Côte D'Ivoire\n",
      "4      Abidjan  Côte D'Ivoire\n",
      "...        ...            ...\n",
      "16495     Xian          China\n",
      "16496     Xian          China\n",
      "16497     Xian          China\n",
      "16498     Xian          China\n",
      "16499     Xian          China\n",
      "\n",
      "[16500 rows x 2 columns]\n",
      "      city        country\n",
      "0  Abidjan  Côte D'Ivoire\n",
      "1  Abidjan  Côte D'Ivoire\n",
      "2  Abidjan  Côte D'Ivoire\n",
      "3  Abidjan  Côte D'Ivoire\n",
      "4  Abidjan  Côte D'Ivoire\n"
     ]
    }
   ],
   "source": [
    "# Получить 23-ю строку, 2-й столбец (индекс 22, 1)\n",
    "print(temperatures.iloc[22, 1])\n",
    "\n",
    "# Использовать нарезку для получения первых 5 строк\n",
    "print(temperatures.iloc[:5])\n",
    "\n",
    "# Использовать нарезку для получения столбцов с 3 по 4\n",
    "print(temperatures.iloc[:, 2:4])\n",
    "# Использовать нарезку в обе стороны одновременно\n",
    "print(temperatures.iloc[:5, 2:4])"
   ]
  },
  {
   "cell_type": "markdown",
   "id": "415ad008",
   "metadata": {},
   "source": [
    "### Поворот температуры по городу и году\n",
    "\n",
    "Интересно посмотреть, как меняются температуры для каждого города со временем - рассматривать каждый месяц приводит к большой таблице, что может быть сложно для анализа. Вместо этого давайте посмотрим, как меняются температуры по годам.\n",
    "\n",
    "Вы можете получить доступ к компонентам даты (год, месяц и день) с помощью кода вида `dataframe[\"столбец\"].dt.component`. Например, компонент месяца - `dataframe[\"столбец\"].dt.month`, а компонент года - `dataframe[\"столбец\"].dt.year`.\n",
    "\n",
    "После получения столбца с годом вы можете создать сводную таблицу с данными, сгруппированными по городу и году, что вы и будете исследовать в предстоящих упражнениях.\n",
    "\n",
    "Библиотека pandas загружена как pd. temperatures доступны."
   ]
  },
  {
   "cell_type": "markdown",
   "id": "7707ca15",
   "metadata": {},
   "source": [
    "#### Инструкции\n",
    "\n",
    "- Добавьте столбец с годом в данные о температуре из компонента года столбца с датой.\n",
    "- Создайте сводную таблицу для столбца `avg_temp_c`, где строки будут представлять собой страну и город, а столбцы - год. Присвойте переменной `temp_by_country_city_vs_year` и посмотрите на результат."
   ]
  },
  {
   "cell_type": "code",
   "execution_count": 11,
   "id": "d95c9a57",
   "metadata": {
    "ExecuteTime": {
     "end_time": "2024-01-04T09:38:11.109955Z",
     "start_time": "2024-01-04T09:38:11.076325Z"
    }
   },
   "outputs": [
    {
     "name": "stdout",
     "output_type": "stream",
     "text": [
      "year                                 2000       2001       2002       2003  \\\n",
      "country       city                                                           \n",
      "Afghanistan   Kabul             15.822667  15.847917  15.714583  15.132583   \n",
      "Angola        Luanda            24.410333  24.427083  24.790917  24.867167   \n",
      "Australia     Melbourne         14.320083  14.180000  14.075833  13.985583   \n",
      "              Sydney            17.567417  17.854500  17.733833  17.592333   \n",
      "Bangladesh    Dhaka             25.905250  25.931250  26.095000  25.927417   \n",
      "...                                   ...        ...        ...        ...   \n",
      "United States Chicago           11.089667  11.703083  11.532083  10.481583   \n",
      "              Los Angeles       16.643333  16.466250  16.430250  16.944667   \n",
      "              New York           9.969083  10.931000  11.252167   9.836000   \n",
      "Vietnam       Ho Chi Minh City  27.588917  27.831750  28.064750  27.827667   \n",
      "Zimbabwe      Harare            20.283667  20.861000  21.079333  20.889167   \n",
      "\n",
      "year                                 2004       2005       2006       2007  \\\n",
      "country       city                                                           \n",
      "Afghanistan   Kabul             16.128417  14.847500  15.798500  15.518000   \n",
      "Angola        Luanda            24.216167  24.414583  24.138417  24.241583   \n",
      "Australia     Melbourne         13.742083  14.378500  13.991083  14.991833   \n",
      "              Sydney            17.869667  18.028083  17.749500  18.020833   \n",
      "Bangladesh    Dhaka             26.136083  26.193333  26.440417  25.951333   \n",
      "...                                   ...        ...        ...        ...   \n",
      "United States Chicago           10.943417  11.583833  11.870500  11.448333   \n",
      "              Los Angeles       16.552833  16.431417  16.623083  16.699917   \n",
      "              New York          10.389500  10.681417  11.519250  10.627333   \n",
      "Vietnam       Ho Chi Minh City  27.686583  27.884000  28.044000  27.866667   \n",
      "Zimbabwe      Harare            20.307667  21.487417  20.699750  20.746250   \n",
      "\n",
      "year                                 2008       2009       2010       2011  \\\n",
      "country       city                                                           \n",
      "Afghanistan   Kabul             15.479250  15.093333  15.676000  15.812167   \n",
      "Angola        Luanda            24.266333  24.325083  24.440250  24.150750   \n",
      "Australia     Melbourne         14.110583  14.647417  14.231667  14.190917   \n",
      "              Sydney            17.321083  18.175833  17.999000  17.713333   \n",
      "Bangladesh    Dhaka             26.004500  26.535583  26.648167  25.803250   \n",
      "...                                   ...        ...        ...        ...   \n",
      "United States Chicago           10.242417  10.298333  11.815917  11.214250   \n",
      "              Los Angeles       17.014750  16.677000  15.887000  15.874833   \n",
      "              New York          10.641667  10.141833  11.357583  11.272250   \n",
      "Vietnam       Ho Chi Minh City  27.611417  27.853333  28.281750  27.675417   \n",
      "Zimbabwe      Harare            20.680500  20.523833  21.165833  20.781750   \n",
      "\n",
      "year                                 2012       2013  \n",
      "country       city                                    \n",
      "Afghanistan   Kabul             14.510333  16.206125  \n",
      "Angola        Luanda            24.240083  24.553875  \n",
      "Australia     Melbourne         14.268667  14.741500  \n",
      "              Sydney            17.474333  18.089750  \n",
      "Bangladesh    Dhaka             26.283583  26.587000  \n",
      "...                                   ...        ...  \n",
      "United States Chicago           12.821250  11.586889  \n",
      "              Los Angeles       17.089583  18.120667  \n",
      "              New York          11.971500  12.163889  \n",
      "Vietnam       Ho Chi Minh City  28.248750  28.455000  \n",
      "Zimbabwe      Harare            20.523333  19.756500  \n",
      "\n",
      "[100 rows x 14 columns]\n"
     ]
    }
   ],
   "source": [
    "# Добавить столбец с годом в данные о температуре\n",
    "temperatures[\"year\"] = temperatures[\"date\"].dt.year\n",
    "\n",
    "# Создать сводную таблицу для avg_temp_c по стране и городу по году\n",
    "temp_by_country_city_vs_year = temperatures.pivot_table(\"avg_temp_c\", index = [\"country\", \"city\"], columns = \"year\")\n",
    "\n",
    "# Посмотреть результат\n",
    "print(temp_by_country_city_vs_year)"
   ]
  },
  {
   "cell_type": "markdown",
   "id": "1525e51f",
   "metadata": {},
   "source": [
    "### Выделение подмножества сводных таблиц\n",
    "\n",
    "Сводная таблица - это просто DataFrame с отсортированными индексами, поэтому техники, которые вы уже изучили, могут быть использованы для их выделения. В частности, комбинация .loc[] + нарезки часто бывает полезной.\n",
    "\n",
    "Библиотека pandas загружена как pd. temp_by_country_city_vs_year доступна."
   ]
  },
  {
   "cell_type": "markdown",
   "id": "8d3d712a",
   "metadata": {},
   "source": [
    "#### Инструкции\n",
    "\n",
    "Используйте .loc[] для выделения подмножества из temp_by_country_city_vs_year.\n",
    "\n",
    "- От Египта до Индии.\n",
    "- От Египта, Каира до Индии, Дели.\n",
    "- От Египта, Каира до Индии, Дели и с 2005 по 2010 год."
   ]
  },
  {
   "cell_type": "code",
   "execution_count": 12,
   "id": "e67f67ac",
   "metadata": {
    "ExecuteTime": {
     "end_time": "2024-01-04T09:38:14.448876Z",
     "start_time": "2024-01-04T09:38:14.438457Z"
    }
   },
   "outputs": [
    {
     "name": "stdout",
     "output_type": "stream",
     "text": [
      "year                       2005       2006       2007       2008       2009  \\\n",
      "country  city                                                                 \n",
      "Egypt    Cairo        22.006500  22.050000  22.361000  22.644500  22.625000   \n",
      "         Gizeh        22.006500  22.050000  22.361000  22.644500  22.625000   \n",
      "Ethiopia Addis Abeba  18.312833  18.427083  18.142583  18.165000  18.765333   \n",
      "France   Paris        11.552917  11.788500  11.750833  11.278250  11.464083   \n",
      "Germany  Berlin        9.919083  10.545333  10.883167  10.657750  10.062500   \n",
      "India    Ahmadabad    26.828083  27.282833  27.511167  27.048500  28.095833   \n",
      "         Bangalore    25.476500  25.418250  25.464333  25.352583  25.725750   \n",
      "         Bombay       27.035750  27.381500  27.634667  27.177750  27.844500   \n",
      "         Calcutta     26.729167  26.986250  26.584583  26.522333  27.153250   \n",
      "         Delhi        25.716083  26.365917  26.145667  25.675000  26.554250   \n",
      "\n",
      "year                       2010  \n",
      "country  city                    \n",
      "Egypt    Cairo        23.718250  \n",
      "         Gizeh        23.718250  \n",
      "Ethiopia Addis Abeba  18.298250  \n",
      "France   Paris        10.409833  \n",
      "Germany  Berlin        8.606833  \n",
      "India    Ahmadabad    28.017833  \n",
      "         Bangalore    25.705250  \n",
      "         Bombay       27.765417  \n",
      "         Calcutta     27.288833  \n",
      "         Delhi        26.520250  \n"
     ]
    }
   ],
   "source": [
    "# Выделение для Египта до Индии\n",
    "temp_by_country_city_vs_year.loc[\"Egypt\":\"India\"]\n",
    "\n",
    "# Выделение для Египта, Каира до Индии, Дели\n",
    "temp_by_country_city_vs_year.loc[(\"Egypt\", \"Cairo\"):(\"India\", \"Delhi\")]\n",
    "\n",
    "# Выделение для Египта, Каира до Индии, Дели, и с 2005 по 2010 год\n",
    "temp_by_country_city_vs_year.loc[(\"Egypt\", \"Cairo\"):(\"India\", \"Delhi\"), \"2005\":\"2010\"]\n",
    "\n",
    "print(temp_Egypt_Cairo_2005_India_Delhi_2010)"
   ]
  },
  {
   "cell_type": "markdown",
   "id": "ab932458",
   "metadata": {},
   "source": [
    "### Расчеты на сводной таблице\n",
    "\n",
    "Сводные таблицы заполнены сводными статистиками, но это только первый шаг к нахождению информативных данных. Часто вам нужно выполнять дополнительные расчеты с ними. Часто нужно найти строки или столбцы, где значение максимально или минимально.\n",
    "\n",
    "Напомним, что вы легко можете выделить строки интереса в Series или DataFrame, используя логическое условие в квадратных скобках. Например: `series[series > value]`.\n",
    "\n",
    "Библиотека pandas загружена как pd, и DataFrame `temp_by_country_city_vs_year` доступен."
   ]
  },
  {
   "cell_type": "markdown",
   "id": "ead95bdd",
   "metadata": {},
   "source": [
    "#### Инструкции\n",
    "\n",
    "- Вычислите среднюю температуру для каждого года и присвойте результат переменной `mean_temp_by_year`.\n",
    "- Отфильтруйте `mean_temp_by_year` для года с наибольшей средней температурой.\n",
    "- Вычислите среднюю температуру для каждого города (по столбцам) и присвойте результат переменной `mean_temp_by_city`.\n",
    "- Отфильтруйте `mean_temp_by_city` для города с наименьшей средней температурой."
   ]
  },
  {
   "cell_type": "code",
   "execution_count": 13,
   "id": "96af06c4",
   "metadata": {
    "ExecuteTime": {
     "end_time": "2024-01-04T09:38:17.712231Z",
     "start_time": "2024-01-04T09:38:17.682762Z"
    }
   },
   "outputs": [
    {
     "name": "stdout",
     "output_type": "stream",
     "text": [
      "year\n",
      "2013    20.312285\n",
      "dtype: float64\n",
      "country  city  \n",
      "China    Harbin    4.876551\n",
      "dtype: float64\n"
     ]
    }
   ],
   "source": [
    "# Получение среднегодовой температуры по всему миру\n",
    "mean_temp_by_year = temp_by_country_city_vs_year.mean()\n",
    "\n",
    "# Отфильтровать для года с наибольшей среднегодовой температурой\n",
    "print(mean_temp_by_year[mean_temp_by_year == mean_temp_by_year.max()])\n",
    "\n",
    "# year_with_max_temp = mean_temp_by_year[mean_temp_by_year == mean_temp_by_year.max()].index\n",
    "\n",
    "\n",
    "# Получение средней температуры по городам\n",
    "mean_temp_by_city = temp_by_country_city_vs_year.mean(axis=\"columns\")\n",
    "\n",
    "# Отфильтровать для города с наименьшей средней температурой\n",
    "print(mean_temp_by_city[mean_temp_by_city == mean_temp_by_city.min()])"
   ]
  }
 ],
 "metadata": {
  "kernelspec": {
   "display_name": "Python 3 (ipykernel)",
   "language": "python",
   "name": "python3"
  },
  "language_info": {
   "codemirror_mode": {
    "name": "ipython",
    "version": 3
   },
   "file_extension": ".py",
   "mimetype": "text/x-python",
   "name": "python",
   "nbconvert_exporter": "python",
   "pygments_lexer": "ipython3",
   "version": "3.9.13"
  }
 },
 "nbformat": 4,
 "nbformat_minor": 5
}
